{
  "cells": [
    {
      "cell_type": "markdown",
      "metadata": {
        "id": "view-in-github",
        "colab_type": "text"
      },
      "source": [
        "<a href=\"https://colab.research.google.com/github/Gabriel-dev-bot/Emptech-2/blob/main/Hands_on_Activity_4_1_Advanced_Data_Analytics_and_Machine_Learning.ipynb\" target=\"_parent\"><img src=\"https://colab.research.google.com/assets/colab-badge.svg\" alt=\"Open In Colab\"/></a>"
      ]
    },
    {
      "cell_type": "markdown",
      "source": [
        "Technological Institute of the Philippines | Quezon City - Computer Engineering\n",
        "--- | ---\n",
        "Course Code: | CPE 019\n",
        "Code Title: | Emerging Technologies in CpE 2 - Fundamentals of Computer Vision\n",
        "Summer Semester | AY 2023-2024\n",
        "<hr> | <hr>\n",
        "<u>**ACTIVITY NO. 3.1**</u> | <u>**Data Analysis**</u>\n",
        "**Name** | Pabilan, Gabriel\n",
        "**Section** | CPE31S1\n",
        "**Date Performed**: |14/06/2024\n",
        "**Date Submitted**: |14/06/2024\n",
        "**Instructor**: | Dr. Jonathan V. Taylar / Engr. Verlyn V. Nojor / Engr. Roman M. Richard\n",
        "\n",
        "<hr>\n"
      ],
      "metadata": {
        "id": "GjNPi5IFaJ1Z"
      }
    },
    {
      "cell_type": "markdown",
      "source": [],
      "metadata": {
        "id": "XUKOl3uHaLGw"
      }
    }
  ],
  "metadata": {
    "colab": {
      "toc_visible": true,
      "provenance": [],
      "include_colab_link": true
    },
    "kernelspec": {
      "display_name": "Python 3",
      "name": "python3"
    }
  },
  "nbformat": 4,
  "nbformat_minor": 0
}