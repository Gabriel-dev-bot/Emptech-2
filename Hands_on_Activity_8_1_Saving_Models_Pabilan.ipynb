{
  "nbformat": 4,
  "nbformat_minor": 0,
  "metadata": {
    "colab": {
      "provenance": [],
      "authorship_tag": "ABX9TyON5KYD4EuEg0wXOf34mKcE",
      "include_colab_link": true
    },
    "kernelspec": {
      "name": "python3",
      "display_name": "Python 3"
    },
    "language_info": {
      "name": "python"
    }
  },
  "cells": [
    {
      "cell_type": "markdown",
      "metadata": {
        "id": "view-in-github",
        "colab_type": "text"
      },
      "source": [
        "<a href=\"https://colab.research.google.com/github/Gabriel-dev-bot/Emptech-2/blob/main/Hands_on_Activity_8_1_Saving_Models_Pabilan.ipynb\" target=\"_parent\"><img src=\"https://colab.research.google.com/assets/colab-badge.svg\" alt=\"Open In Colab\"/></a>"
      ]
    },
    {
      "cell_type": "markdown",
      "source": [
        "Name: Pabilan, Gabriel G.\n",
        "\n",
        "Course and Section: CPE019-CPE32S1\n",
        "\n",
        "Date of Submission: 07/08/2024\n",
        "\n",
        "Instructor: Engr. Roman Richard"
      ],
      "metadata": {
        "id": "Zn1AX_8SucaL"
      }
    },
    {
      "cell_type": "markdown",
      "source": [
        "Explain your datasets and the problem being addressed.\n",
        "\n",
        "This activity uses a classification dataset. It spots real websites and fake ones trying to steal info. Cybersecurity pros deal with this problem all the time. Bad guys make fake sites to trick people. They want your passwords, credit cards, and personal stuff. It's a sneaky game of cat and mouse online."
      ],
      "metadata": {
        "id": "FbB3OvXWucvI"
      }
    },
    {
      "cell_type": "code",
      "execution_count": null,
      "metadata": {
        "colab": {
          "base_uri": "https://localhost:8080/"
        },
        "id": "38l4zRf1QRgG",
        "outputId": "4c9be2c2-7e12-4c86-c77c-5e17c0b58cea"
      },
      "outputs": [
        {
          "output_type": "stream",
          "name": "stdout",
          "text": [
            "Collecting ucimlrepo\n",
            "  Downloading ucimlrepo-0.0.7-py3-none-any.whl (8.0 kB)\n",
            "Requirement already satisfied: pandas>=1.0.0 in /usr/local/lib/python3.10/dist-packages (from ucimlrepo) (2.0.3)\n",
            "Requirement already satisfied: certifi>=2020.12.5 in /usr/local/lib/python3.10/dist-packages (from ucimlrepo) (2024.6.2)\n",
            "Requirement already satisfied: python-dateutil>=2.8.2 in /usr/local/lib/python3.10/dist-packages (from pandas>=1.0.0->ucimlrepo) (2.8.2)\n",
            "Requirement already satisfied: pytz>=2020.1 in /usr/local/lib/python3.10/dist-packages (from pandas>=1.0.0->ucimlrepo) (2023.4)\n",
            "Requirement already satisfied: tzdata>=2022.1 in /usr/local/lib/python3.10/dist-packages (from pandas>=1.0.0->ucimlrepo) (2024.1)\n",
            "Requirement already satisfied: numpy>=1.21.0 in /usr/local/lib/python3.10/dist-packages (from pandas>=1.0.0->ucimlrepo) (1.25.2)\n",
            "Requirement already satisfied: six>=1.5 in /usr/local/lib/python3.10/dist-packages (from python-dateutil>=2.8.2->pandas>=1.0.0->ucimlrepo) (1.16.0)\n",
            "Installing collected packages: ucimlrepo\n",
            "Successfully installed ucimlrepo-0.0.7\n"
          ]
        }
      ],
      "source": [
        "pip install ucimlrepo"
      ]
    },
    {
      "cell_type": "code",
      "source": [
        "from ucimlrepo import fetch_ucirepo\n",
        "\n",
        "# fetch dataset\n",
        "pima_indians_diabetes = fetch_ucirepo(id=159)\n",
        "\n",
        "# data (as pandas dataframes)\n",
        "X = pima_indians_diabetes.data.features\n",
        "y = pima_indians_diabetes.data.targets\n",
        "\n",
        "# metadata\n",
        "print(pima_indians_diabetes.metadata)\n",
        "\n",
        "# variable information\n",
        "print(pima_indians_diabetes.variables)"
      ],
      "metadata": {
        "colab": {
          "base_uri": "https://localhost:8080/"
        },
        "id": "rgEIoTIHQ2VD",
        "outputId": "aecb4f96-c13f-40bc-892a-b17228ef6f9e"
      },
      "execution_count": null,
      "outputs": [
        {
          "output_type": "stream",
          "name": "stdout",
          "text": [
            "{'uci_id': 159, 'name': 'MAGIC Gamma Telescope', 'repository_url': 'https://archive.ics.uci.edu/dataset/159/magic+gamma+telescope', 'data_url': 'https://archive.ics.uci.edu/static/public/159/data.csv', 'abstract': 'Data are MC generated to simulate registration of high energy gamma particles in an atmospheric Cherenkov telescope', 'area': 'Physics and Chemistry', 'tasks': ['Classification'], 'characteristics': ['Multivariate'], 'num_instances': 19020, 'num_features': 10, 'feature_types': ['Real'], 'demographics': [], 'target_col': ['class'], 'index_col': None, 'has_missing_values': 'no', 'missing_values_symbol': None, 'year_of_dataset_creation': 2004, 'last_updated': 'Tue Dec 19 2023', 'dataset_doi': '10.24432/C52C8B', 'creators': ['R. Bock'], 'intro_paper': None, 'additional_info': {'summary': \"The data are MC generated (see below) to simulate registration of high energy gamma particles in a ground-based atmospheric Cherenkov gamma telescope using the imaging technique. Cherenkov gamma telescope observes high energy gamma rays, taking advantage of the radiation emitted by charged particles produced inside the electromagnetic showers initiated by the gammas, and developing in the atmosphere. This Cherenkov radiation (of visible to UV wavelengths) leaks through the atmosphere and gets recorded in the detector, allowing reconstruction of the shower parameters. The available information consists of pulses left by the incoming Cherenkov photons on the photomultiplier tubes, arranged in a plane, the camera. Depending on the energy of the primary gamma, a total of few hundreds to some 10000 Cherenkov photons get collected, in patterns (called the shower image), allowing to discriminate statistically those caused by primary gammas (signal) from the images of hadronic showers initiated by cosmic rays in the upper atmosphere (background).\\r\\n\\r\\nTypically, the image of a shower after some pre-processing is an elongated cluster. Its long axis is oriented towards the camera center if the shower axis is parallel to the telescope's optical axis, i.e. if the telescope axis is directed towards a point source. A principal component analysis is performed in the camera plane, which results in a correlation axis and defines an ellipse. If the depositions were distributed as a bivariate Gaussian, this would be an equidensity ellipse. The characteristic parameters of this ellipse (often called Hillas parameters) are among the image parameters that can be used for discrimination. The energy depositions are typically asymmetric along the major axis, and this asymmetry can also be used in discrimination. There are, in addition, further discriminating characteristics, like the extent of the cluster in the image plane, or the total sum of depositions.\\r\\n\\r\\nThe data set was generated by a Monte Carlo program, Corsika, described in:\\r\\n    D. Heck et al., CORSIKA, A Monte Carlo code to simulate extensive air showers,\\r\\n    Forschungszentrum Karlsruhe FZKA 6019 (1998).\\r\\nhttp://rexa.info/paper?id=ac6e674e9af20979b23d3ed4521f1570765e8d68\\r\\n\\r\\nThe program was run with parameters allowing to observe events with energies down to below 50 GeV.\", 'purpose': None, 'funded_by': None, 'instances_represent': None, 'recommended_data_splits': None, 'sensitive_data': None, 'preprocessing_description': None, 'variable_info': '    1.  fLength:  continuous  # major axis of ellipse [mm]\\r\\n    2.  fWidth:   continuous  # minor axis of ellipse [mm] \\r\\n    3.  fSize:    continuous  # 10-log of sum of content of all pixels [in #phot]\\r\\n    4.  fConc:    continuous  # ratio of sum of two highest pixels over fSize  [ratio]\\r\\n    5.  fConc1:   continuous  # ratio of highest pixel over fSize  [ratio]\\r\\n    6.  fAsym:    continuous  # distance from highest pixel to center, projected onto major axis [mm]\\r\\n    7.  fM3Long:  continuous  # 3rd root of third moment along major axis  [mm] \\r\\n    8.  fM3Trans: continuous  # 3rd root of third moment along minor axis  [mm]\\r\\n    9.  fAlpha:   continuous  # angle of major axis with vector to origin [deg]\\r\\n   10.  fDist:    continuous  # distance from origin to center of ellipse [mm]\\r\\n   11.  class:    g,h         # gamma (signal), hadron (background)\\r\\n\\r\\n   g = gamma (signal):     12332\\r\\n   h = hadron (background): 6688\\r\\n\\r\\n   For technical reasons, the number of h events is underestimated. In the real data, the h class represents the majority of the events.\\r\\n\\r\\n   The simple classification accuracy is not meaningful for this data, since classifying a background event as signal is worse than classifying a signal event as background. For comparison of different classifiers an ROC curve has to be used. The relevant points on this curve are those, where the probability of accepting a background event as signal is below one of the following thresholds: 0.01, 0.02, 0.05, 0.1, 0.2 depending on the required quality of the sample of the accepted events for different experiments.', 'citation': None}}\n",
            "        name     role        type demographic  \\\n",
            "0    fLength  Feature  Continuous        None   \n",
            "1     fWidth  Feature  Continuous        None   \n",
            "2      fSize  Feature  Continuous        None   \n",
            "3      fConc  Feature  Continuous        None   \n",
            "4     fConc1  Feature  Continuous        None   \n",
            "5      fAsym  Feature  Continuous        None   \n",
            "6    fM3Long  Feature  Continuous        None   \n",
            "7   fM3Trans  Feature  Continuous        None   \n",
            "8     fAlpha  Feature  Continuous        None   \n",
            "9      fDist  Feature  Continuous        None   \n",
            "10     class   Target      Binary        None   \n",
            "\n",
            "                                          description  units missing_values  \n",
            "0                               major axis of ellipse     mm             no  \n",
            "1                               minor axis of ellipse     mm             no  \n",
            "2              10-log of sum of content of all pixels  #phot             no  \n",
            "3       ratio of sum of two highest pixels over fSize   None             no  \n",
            "4                   ratio of highest pixel over fSize   None             no  \n",
            "5   distance from highest pixel to center, project...   None             no  \n",
            "6           3rd root of third moment along major axis     mm             no  \n",
            "7           3rd root of third moment along minor axis     mm             no  \n",
            "8           angle of major axis with vector to origin    deg             no  \n",
            "9           distance from origin to center of ellipse     mm             no  \n",
            "10                gamma (signal), hadron (background)   None             no  \n"
          ]
        }
      ]
    },
    {
      "cell_type": "markdown",
      "source": [
        "Save a model in HDF5 format:"
      ],
      "metadata": {
        "id": "Q6sPzxrPV15L"
      }
    },
    {
      "cell_type": "code",
      "source": [
        "# MLP for Pima Indians Dataset Save to HDF5\n",
        "from tensorflow.keras.models import Sequential\n",
        "from tensorflow.keras.layers import Dense\n",
        "import numpy\n",
        "import os\n",
        "import pandas as pd\n",
        "# fix random seed for reproducibility\n",
        "numpy.random.seed(7)\n",
        "# load pima indians dataset\n",
        "dataset = pd.read_csv(\"https://archive.ics.uci.edu/static/public/379/data.csv\", delimiter=\",\")\n",
        "\n",
        "# split into input (X) and output (Y) variables\n",
        "X = dataset.iloc[:,0:8]\n",
        "Y = dataset.iloc[:,8]\n",
        "\n",
        "# create model\n",
        "model = Sequential()\n",
        "model.add(Dense(128, input_shape=(8,), activation='relu'))\n",
        "model.add(Dense(64, activation='relu'))\n",
        "model.add(Dense(32, activation='relu'))\n",
        "model.add(Dense(1, activation='sigmoid'))\n",
        "\n",
        "# Compile model\n",
        "model.compile(loss='binary_crossentropy', optimizer='adam', metrics=['accuracy'])\n",
        "# Fit the model\n",
        "model.fit(X, Y, epochs=50, batch_size=128, verbose=0)\n",
        "# evaluate the model\n",
        "scores = model.evaluate(X, Y, verbose=0)\n",
        "print(\"%s: %.2f%%\" % (model.metrics_names[1], scores[1]*100))\n",
        "\n",
        "# save model to HDF5\n",
        "model.save(\"pima_indians_diabetes_model.h5\")\n",
        "print(\"Saved model to disk\")"
      ],
      "metadata": {
        "colab": {
          "base_uri": "https://localhost:8080/"
        },
        "id": "EABicW8UTMFa",
        "outputId": "e510ac71-1ab4-48d0-ee90-9cf8c651eb39"
      },
      "execution_count": null,
      "outputs": [
        {
          "output_type": "stream",
          "name": "stdout",
          "text": [
            "accuracy: 90.98%\n",
            "Saved model to disk\n"
          ]
        },
        {
          "output_type": "stream",
          "name": "stderr",
          "text": [
            "/usr/local/lib/python3.10/dist-packages/keras/src/engine/training.py:3103: UserWarning: You are saving your model as an HDF5 file via `model.save()`. This file format is considered legacy. We recommend using instead the native Keras format, e.g. `model.save('my_model.keras')`.\n",
            "  saving_api.save_model(\n"
          ]
        }
      ]
    },
    {
      "cell_type": "code",
      "source": [
        "# MLP for Pima Indians Dataset Save to HDF5\n",
        "from tensorflow.keras.models import Sequential\n",
        "from tensorflow.keras.layers import Dense\n",
        "import numpy\n",
        "import os\n",
        "import pandas as pd\n",
        "\n",
        "# fix random seed for reproducibility\n",
        "seed = 7\n",
        "numpy.random.seed(seed)\n",
        "\n",
        "# load pima indians dataset\n",
        "dataset = pd.read_csv(\"https://archive.ics.uci.edu/static/public/379/data.csv\", delimiter=\",\")\n",
        "\n",
        "# split into input (X) and output (Y) variables\n",
        "X = dataset.iloc[:,0:8]\n",
        "Y = dataset.iloc[:,8]\n",
        "\n",
        "# create model\n",
        "model = Sequential()\n",
        "model.add(Dense(12, input_dim=8, activation='relu'))\n",
        "model.add(Dense(8, activation='relu'))\n",
        "model.add(Dense(1, activation='sigmoid'))\n",
        "\n",
        "# Compile model\n",
        "model.compile(loss='binary_crossentropy', optimizer='adam', metrics=['accuracy'])\n",
        "# Fit the model\n",
        "model.fit(X, Y, epochs=150, batch_size=10, verbose=0)\n",
        "# evaluate the model\n",
        "scores = model.evaluate(X, Y, verbose=0)\n",
        "print(\"%s: %.2f%%\" % (model.metrics_names[1], scores[1]*100))\n",
        "\n",
        "# save model to HDF5\n",
        "model.save(\"pima_indians_diabetes_model.h5\")\n",
        "print(\"Saved model to disk\")"
      ],
      "metadata": {
        "colab": {
          "base_uri": "https://localhost:8080/"
        },
        "id": "PtjaK4iYTbJk",
        "outputId": "f5618212-6db8-4b27-f609-e932bfa8aa95"
      },
      "execution_count": null,
      "outputs": [
        {
          "output_type": "stream",
          "name": "stdout",
          "text": [
            "accuracy: 90.61%\n",
            "Saved model to disk\n"
          ]
        },
        {
          "output_type": "stream",
          "name": "stderr",
          "text": [
            "/usr/local/lib/python3.10/dist-packages/keras/src/engine/training.py:3103: UserWarning: You are saving your model as an HDF5 file via `model.save()`. This file format is considered legacy. We recommend using instead the native Keras format, e.g. `model.save('my_model.keras')`.\n",
            "  saving_api.save_model(\n"
          ]
        }
      ]
    },
    {
      "cell_type": "code",
      "source": [
        "# serialize model to YAML\n",
        "model_yaml = model.to_json()\n",
        "with open(\"pima_indians_diabetes_model.yaml\", \"w\") as yaml_file:\n",
        "    yaml_file.write(model_yaml)"
      ],
      "metadata": {
        "id": "uBYcPvPMXTUy"
      },
      "execution_count": null,
      "outputs": []
    },
    {
      "cell_type": "code",
      "source": [
        "import yaml\n",
        "\n",
        "# Read the contents of the YAML file\n",
        "with open('pima_indians_diabetes_model.yaml', 'r') as yaml_file:\n",
        "    model_yaml_content = yaml.safe_load(yaml_file)\n",
        "\n",
        "# Print the parsed YAML content with indentation\n",
        "print(yaml.dump(model_yaml_content, indent=4))"
      ],
      "metadata": {
        "colab": {
          "base_uri": "https://localhost:8080/"
        },
        "id": "L3qNYlICWNMI",
        "outputId": "20ed8232-7e07-4ca6-e418-3914c31a899d"
      },
      "execution_count": null,
      "outputs": [
        {
          "output_type": "stream",
          "name": "stdout",
          "text": [
            "backend: tensorflow\n",
            "class_name: Sequential\n",
            "config:\n",
            "    layers:\n",
            "    -   class_name: InputLayer\n",
            "        config:\n",
            "            batch_input_shape:\n",
            "            - null\n",
            "            - 8\n",
            "            dtype: float32\n",
            "            name: dense_4_input\n",
            "            ragged: false\n",
            "            sparse: false\n",
            "        module: keras.layers\n",
            "        registered_name: null\n",
            "    -   build_config:\n",
            "            input_shape:\n",
            "            - null\n",
            "            - 8\n",
            "        class_name: Dense\n",
            "        config:\n",
            "            activation: relu\n",
            "            activity_regularizer: null\n",
            "            batch_input_shape:\n",
            "            - null\n",
            "            - 8\n",
            "            bias_constraint: null\n",
            "            bias_initializer:\n",
            "                class_name: Zeros\n",
            "                config: {}\n",
            "                module: keras.initializers\n",
            "                registered_name: null\n",
            "            bias_regularizer: null\n",
            "            dtype: float32\n",
            "            kernel_constraint: null\n",
            "            kernel_initializer:\n",
            "                class_name: GlorotUniform\n",
            "                config:\n",
            "                    seed: null\n",
            "                module: keras.initializers\n",
            "                registered_name: null\n",
            "            kernel_regularizer: null\n",
            "            name: dense_4\n",
            "            trainable: true\n",
            "            units: 12\n",
            "            use_bias: true\n",
            "        module: keras.layers\n",
            "        registered_name: null\n",
            "    -   build_config:\n",
            "            input_shape:\n",
            "            - null\n",
            "            - 12\n",
            "        class_name: Dense\n",
            "        config:\n",
            "            activation: relu\n",
            "            activity_regularizer: null\n",
            "            bias_constraint: null\n",
            "            bias_initializer:\n",
            "                class_name: Zeros\n",
            "                config: {}\n",
            "                module: keras.initializers\n",
            "                registered_name: null\n",
            "            bias_regularizer: null\n",
            "            dtype: float32\n",
            "            kernel_constraint: null\n",
            "            kernel_initializer:\n",
            "                class_name: GlorotUniform\n",
            "                config:\n",
            "                    seed: null\n",
            "                module: keras.initializers\n",
            "                registered_name: null\n",
            "            kernel_regularizer: null\n",
            "            name: dense_5\n",
            "            trainable: true\n",
            "            units: 8\n",
            "            use_bias: true\n",
            "        module: keras.layers\n",
            "        registered_name: null\n",
            "    -   build_config:\n",
            "            input_shape:\n",
            "            - null\n",
            "            - 8\n",
            "        class_name: Dense\n",
            "        config:\n",
            "            activation: sigmoid\n",
            "            activity_regularizer: null\n",
            "            bias_constraint: null\n",
            "            bias_initializer:\n",
            "                class_name: Zeros\n",
            "                config: {}\n",
            "                module: keras.initializers\n",
            "                registered_name: null\n",
            "            bias_regularizer: null\n",
            "            dtype: float32\n",
            "            kernel_constraint: null\n",
            "            kernel_initializer:\n",
            "                class_name: GlorotUniform\n",
            "                config:\n",
            "                    seed: null\n",
            "                module: keras.initializers\n",
            "                registered_name: null\n",
            "            kernel_regularizer: null\n",
            "            name: dense_6\n",
            "            trainable: true\n",
            "            units: 1\n",
            "            use_bias: true\n",
            "        module: keras.layers\n",
            "        registered_name: null\n",
            "    name: sequential_1\n",
            "keras_version: 2.15.0\n",
            "\n"
          ]
        }
      ]
    },
    {
      "cell_type": "markdown",
      "source": [
        "Checkpoint Neural Network Model Improvements:"
      ],
      "metadata": {
        "id": "f_H96H6OXV9R"
      }
    },
    {
      "cell_type": "code",
      "source": [
        "# Checkpoint the weights when validation accuracy improves\n",
        "from keras.models import Sequential\n",
        "from keras.layers import Dense\n",
        "from keras.callbacks import ModelCheckpoint\n",
        "import matplotlib.pyplot as plt\n",
        "import numpy as np\n",
        "import tensorflow as tf\n",
        "import pandas as pd\n",
        "\n",
        "seed = 42\n",
        "tf.random.set_seed(seed)\n",
        "\n",
        "# load pima indians dataset\n",
        "dataset = pd.read_csv(\"https://archive.ics.uci.edu/static/public/379/data.csv\", delimiter=\",\")\n",
        "\n",
        "# split into input (X) and output (Y) variables\n",
        "X = dataset.iloc[:,0:8]\n",
        "Y = dataset.iloc[:,8]\n",
        "\n",
        "# create model\n",
        "model = Sequential()\n",
        "model.add(Dense(128, input_shape=(8,), activation='relu'))\n",
        "model.add(Dense(64, activation='relu'))\n",
        "model.add(Dense(32, activation='relu'))\n",
        "model.add(Dense(1, activation='sigmoid'))\n",
        "\n",
        "# Compile model\n",
        "model.compile(loss='binary_crossentropy', optimizer='adam', metrics=['accuracy'])\n",
        "\n",
        "# checkpoint\n",
        "filepath=\"pima_indians_diabetes_weights-improvement-{epoch:02d}-{val_accuracy:.2f}.hdf5\"\n",
        "checkpoint = ModelCheckpoint(filepath, monitor='val_accuracy', verbose=1, save_best_only=True, mode='max')\n",
        "callbacks_list = [checkpoint]\n",
        "\n",
        "# Fit the model\n",
        "model.fit(X, Y, validation_split=0.33, epochs=150, batch_size=10, callbacks=callbacks_list, verbose=0)"
      ],
      "metadata": {
        "colab": {
          "base_uri": "https://localhost:8080/"
        },
        "id": "94fVjuRoWtyM",
        "outputId": "bd23bb67-f864-47cd-d8ac-2ee24104d8ba"
      },
      "execution_count": null,
      "outputs": [
        {
          "output_type": "stream",
          "name": "stdout",
          "text": [
            "\n",
            "Epoch 1: val_accuracy improved from -inf to 0.87919, saving model to pima_indians_diabetes_weights-improvement-01-0.88.hdf5\n"
          ]
        },
        {
          "output_type": "stream",
          "name": "stderr",
          "text": [
            "/usr/local/lib/python3.10/dist-packages/keras/src/engine/training.py:3103: UserWarning: You are saving your model as an HDF5 file via `model.save()`. This file format is considered legacy. We recommend using instead the native Keras format, e.g. `model.save('my_model.keras')`.\n",
            "  saving_api.save_model(\n"
          ]
        },
        {
          "output_type": "stream",
          "name": "stdout",
          "text": [
            "\n",
            "Epoch 2: val_accuracy did not improve from 0.87919\n",
            "\n",
            "Epoch 3: val_accuracy did not improve from 0.87919\n",
            "\n",
            "Epoch 4: val_accuracy did not improve from 0.87919\n",
            "\n",
            "Epoch 5: val_accuracy did not improve from 0.87919\n",
            "\n",
            "Epoch 6: val_accuracy did not improve from 0.87919\n",
            "\n",
            "Epoch 7: val_accuracy did not improve from 0.87919\n",
            "\n",
            "Epoch 8: val_accuracy did not improve from 0.87919\n",
            "\n",
            "Epoch 9: val_accuracy did not improve from 0.87919\n",
            "\n",
            "Epoch 10: val_accuracy did not improve from 0.87919\n",
            "\n",
            "Epoch 11: val_accuracy did not improve from 0.87919\n",
            "\n",
            "Epoch 12: val_accuracy did not improve from 0.87919\n",
            "\n",
            "Epoch 13: val_accuracy did not improve from 0.87919\n",
            "\n",
            "Epoch 14: val_accuracy did not improve from 0.87919\n",
            "\n",
            "Epoch 15: val_accuracy did not improve from 0.87919\n",
            "\n",
            "Epoch 16: val_accuracy did not improve from 0.87919\n",
            "\n",
            "Epoch 17: val_accuracy did not improve from 0.87919\n",
            "\n",
            "Epoch 18: val_accuracy did not improve from 0.87919\n",
            "\n",
            "Epoch 19: val_accuracy did not improve from 0.87919\n",
            "\n",
            "Epoch 20: val_accuracy did not improve from 0.87919\n",
            "\n",
            "Epoch 21: val_accuracy did not improve from 0.87919\n",
            "\n",
            "Epoch 22: val_accuracy did not improve from 0.87919\n",
            "\n",
            "Epoch 23: val_accuracy did not improve from 0.87919\n",
            "\n",
            "Epoch 24: val_accuracy did not improve from 0.87919\n",
            "\n",
            "Epoch 25: val_accuracy improved from 0.87919 to 0.88367, saving model to pima_indians_diabetes_weights-improvement-25-0.88.hdf5\n",
            "\n",
            "Epoch 26: val_accuracy did not improve from 0.88367\n",
            "\n",
            "Epoch 27: val_accuracy did not improve from 0.88367\n",
            "\n",
            "Epoch 28: val_accuracy did not improve from 0.88367\n",
            "\n",
            "Epoch 29: val_accuracy did not improve from 0.88367\n",
            "\n",
            "Epoch 30: val_accuracy did not improve from 0.88367\n",
            "\n",
            "Epoch 31: val_accuracy did not improve from 0.88367\n",
            "\n",
            "Epoch 32: val_accuracy did not improve from 0.88367\n",
            "\n",
            "Epoch 33: val_accuracy did not improve from 0.88367\n",
            "\n",
            "Epoch 34: val_accuracy did not improve from 0.88367\n",
            "\n",
            "Epoch 35: val_accuracy did not improve from 0.88367\n",
            "\n",
            "Epoch 36: val_accuracy did not improve from 0.88367\n",
            "\n",
            "Epoch 37: val_accuracy did not improve from 0.88367\n",
            "\n",
            "Epoch 38: val_accuracy did not improve from 0.88367\n",
            "\n",
            "Epoch 39: val_accuracy did not improve from 0.88367\n",
            "\n",
            "Epoch 40: val_accuracy did not improve from 0.88367\n",
            "\n",
            "Epoch 41: val_accuracy did not improve from 0.88367\n",
            "\n",
            "Epoch 42: val_accuracy did not improve from 0.88367\n",
            "\n",
            "Epoch 43: val_accuracy did not improve from 0.88367\n",
            "\n",
            "Epoch 44: val_accuracy did not improve from 0.88367\n",
            "\n",
            "Epoch 45: val_accuracy did not improve from 0.88367\n",
            "\n",
            "Epoch 46: val_accuracy did not improve from 0.88367\n",
            "\n",
            "Epoch 47: val_accuracy did not improve from 0.88367\n",
            "\n",
            "Epoch 48: val_accuracy did not improve from 0.88367\n",
            "\n",
            "Epoch 49: val_accuracy did not improve from 0.88367\n",
            "\n",
            "Epoch 50: val_accuracy did not improve from 0.88367\n",
            "\n",
            "Epoch 51: val_accuracy did not improve from 0.88367\n",
            "\n",
            "Epoch 52: val_accuracy did not improve from 0.88367\n",
            "\n",
            "Epoch 53: val_accuracy did not improve from 0.88367\n",
            "\n",
            "Epoch 54: val_accuracy did not improve from 0.88367\n",
            "\n",
            "Epoch 55: val_accuracy did not improve from 0.88367\n",
            "\n",
            "Epoch 56: val_accuracy did not improve from 0.88367\n",
            "\n",
            "Epoch 57: val_accuracy did not improve from 0.88367\n",
            "\n",
            "Epoch 58: val_accuracy did not improve from 0.88367\n",
            "\n",
            "Epoch 59: val_accuracy did not improve from 0.88367\n",
            "\n",
            "Epoch 60: val_accuracy did not improve from 0.88367\n",
            "\n",
            "Epoch 61: val_accuracy did not improve from 0.88367\n",
            "\n",
            "Epoch 62: val_accuracy did not improve from 0.88367\n",
            "\n",
            "Epoch 63: val_accuracy did not improve from 0.88367\n",
            "\n",
            "Epoch 64: val_accuracy did not improve from 0.88367\n",
            "\n",
            "Epoch 65: val_accuracy did not improve from 0.88367\n",
            "\n",
            "Epoch 66: val_accuracy did not improve from 0.88367\n",
            "\n",
            "Epoch 67: val_accuracy did not improve from 0.88367\n",
            "\n",
            "Epoch 68: val_accuracy did not improve from 0.88367\n",
            "\n",
            "Epoch 69: val_accuracy did not improve from 0.88367\n",
            "\n",
            "Epoch 70: val_accuracy did not improve from 0.88367\n",
            "\n",
            "Epoch 71: val_accuracy did not improve from 0.88367\n",
            "\n",
            "Epoch 72: val_accuracy did not improve from 0.88367\n",
            "\n",
            "Epoch 73: val_accuracy did not improve from 0.88367\n",
            "\n",
            "Epoch 74: val_accuracy did not improve from 0.88367\n",
            "\n",
            "Epoch 75: val_accuracy did not improve from 0.88367\n",
            "\n",
            "Epoch 76: val_accuracy did not improve from 0.88367\n",
            "\n",
            "Epoch 77: val_accuracy did not improve from 0.88367\n",
            "\n",
            "Epoch 78: val_accuracy did not improve from 0.88367\n",
            "\n",
            "Epoch 79: val_accuracy did not improve from 0.88367\n",
            "\n",
            "Epoch 80: val_accuracy did not improve from 0.88367\n",
            "\n",
            "Epoch 81: val_accuracy did not improve from 0.88367\n",
            "\n",
            "Epoch 82: val_accuracy did not improve from 0.88367\n",
            "\n",
            "Epoch 83: val_accuracy did not improve from 0.88367\n",
            "\n",
            "Epoch 84: val_accuracy did not improve from 0.88367\n",
            "\n",
            "Epoch 85: val_accuracy did not improve from 0.88367\n",
            "\n",
            "Epoch 86: val_accuracy did not improve from 0.88367\n",
            "\n",
            "Epoch 87: val_accuracy did not improve from 0.88367\n",
            "\n",
            "Epoch 88: val_accuracy did not improve from 0.88367\n",
            "\n",
            "Epoch 89: val_accuracy did not improve from 0.88367\n",
            "\n",
            "Epoch 90: val_accuracy did not improve from 0.88367\n",
            "\n",
            "Epoch 91: val_accuracy did not improve from 0.88367\n",
            "\n",
            "Epoch 92: val_accuracy did not improve from 0.88367\n",
            "\n",
            "Epoch 93: val_accuracy did not improve from 0.88367\n",
            "\n",
            "Epoch 94: val_accuracy did not improve from 0.88367\n",
            "\n",
            "Epoch 95: val_accuracy did not improve from 0.88367\n",
            "\n",
            "Epoch 96: val_accuracy did not improve from 0.88367\n",
            "\n",
            "Epoch 97: val_accuracy did not improve from 0.88367\n",
            "\n",
            "Epoch 98: val_accuracy did not improve from 0.88367\n",
            "\n",
            "Epoch 99: val_accuracy did not improve from 0.88367\n",
            "\n",
            "Epoch 100: val_accuracy did not improve from 0.88367\n",
            "\n",
            "Epoch 101: val_accuracy did not improve from 0.88367\n",
            "\n",
            "Epoch 102: val_accuracy did not improve from 0.88367\n",
            "\n",
            "Epoch 103: val_accuracy did not improve from 0.88367\n",
            "\n",
            "Epoch 104: val_accuracy did not improve from 0.88367\n",
            "\n",
            "Epoch 105: val_accuracy did not improve from 0.88367\n",
            "\n",
            "Epoch 106: val_accuracy did not improve from 0.88367\n",
            "\n",
            "Epoch 107: val_accuracy did not improve from 0.88367\n",
            "\n",
            "Epoch 108: val_accuracy did not improve from 0.88367\n",
            "\n",
            "Epoch 109: val_accuracy did not improve from 0.88367\n",
            "\n",
            "Epoch 110: val_accuracy did not improve from 0.88367\n",
            "\n",
            "Epoch 111: val_accuracy did not improve from 0.88367\n",
            "\n",
            "Epoch 112: val_accuracy did not improve from 0.88367\n",
            "\n",
            "Epoch 113: val_accuracy did not improve from 0.88367\n",
            "\n",
            "Epoch 114: val_accuracy did not improve from 0.88367\n",
            "\n",
            "Epoch 115: val_accuracy did not improve from 0.88367\n",
            "\n",
            "Epoch 116: val_accuracy did not improve from 0.88367\n",
            "\n",
            "Epoch 117: val_accuracy did not improve from 0.88367\n",
            "\n",
            "Epoch 118: val_accuracy did not improve from 0.88367\n",
            "\n",
            "Epoch 119: val_accuracy did not improve from 0.88367\n",
            "\n",
            "Epoch 120: val_accuracy did not improve from 0.88367\n",
            "\n",
            "Epoch 121: val_accuracy did not improve from 0.88367\n",
            "\n",
            "Epoch 122: val_accuracy did not improve from 0.88367\n",
            "\n",
            "Epoch 123: val_accuracy did not improve from 0.88367\n",
            "\n",
            "Epoch 124: val_accuracy did not improve from 0.88367\n",
            "\n",
            "Epoch 125: val_accuracy did not improve from 0.88367\n",
            "\n",
            "Epoch 126: val_accuracy did not improve from 0.88367\n",
            "\n",
            "Epoch 127: val_accuracy did not improve from 0.88367\n",
            "\n",
            "Epoch 128: val_accuracy did not improve from 0.88367\n",
            "\n",
            "Epoch 129: val_accuracy did not improve from 0.88367\n",
            "\n",
            "Epoch 130: val_accuracy did not improve from 0.88367\n",
            "\n",
            "Epoch 131: val_accuracy did not improve from 0.88367\n",
            "\n",
            "Epoch 132: val_accuracy did not improve from 0.88367\n",
            "\n",
            "Epoch 133: val_accuracy did not improve from 0.88367\n",
            "\n",
            "Epoch 134: val_accuracy did not improve from 0.88367\n",
            "\n",
            "Epoch 135: val_accuracy did not improve from 0.88367\n",
            "\n",
            "Epoch 136: val_accuracy did not improve from 0.88367\n",
            "\n",
            "Epoch 137: val_accuracy did not improve from 0.88367\n",
            "\n",
            "Epoch 138: val_accuracy did not improve from 0.88367\n",
            "\n",
            "Epoch 139: val_accuracy did not improve from 0.88367\n",
            "\n",
            "Epoch 140: val_accuracy did not improve from 0.88367\n",
            "\n",
            "Epoch 141: val_accuracy did not improve from 0.88367\n",
            "\n",
            "Epoch 142: val_accuracy did not improve from 0.88367\n",
            "\n",
            "Epoch 143: val_accuracy did not improve from 0.88367\n",
            "\n",
            "Epoch 144: val_accuracy did not improve from 0.88367\n",
            "\n",
            "Epoch 145: val_accuracy did not improve from 0.88367\n",
            "\n",
            "Epoch 146: val_accuracy did not improve from 0.88367\n",
            "\n",
            "Epoch 147: val_accuracy did not improve from 0.88367\n",
            "\n",
            "Epoch 148: val_accuracy did not improve from 0.88367\n",
            "\n",
            "Epoch 149: val_accuracy did not improve from 0.88367\n",
            "\n",
            "Epoch 150: val_accuracy did not improve from 0.88367\n"
          ]
        },
        {
          "output_type": "execute_result",
          "data": {
            "text/plain": [
              "<keras.src.callbacks.History at 0x7cbf726799c0>"
            ]
          },
          "metadata": {},
          "execution_count": 14
        }
      ]
    },
    {
      "cell_type": "markdown",
      "source": [
        "Load a saved Neural Network model:"
      ],
      "metadata": {
        "id": "4_i70VjpX2nO"
      }
    },
    {
      "cell_type": "code",
      "source": [
        "# Load a saved Neural Network model\n",
        "from tensorflow.keras.models import load_model\n",
        "import matplotlib.pyplot as plt\n",
        "import numpy\n",
        "import pandas as pd\n",
        "\n",
        "# fix random seed for reproducibility\n",
        "seed = 7\n",
        "numpy.random.seed(seed)\n",
        "\n",
        "# load model\n",
        "model = load_model(\"pima_indians_diabetes_model.h5\")\n",
        "print(\"Loaded model from disk\")\n",
        "\n",
        "# load pima indians dataset\n",
        "dataset = pd.read_csv(\"https://archive.ics.uci.edu/static/public/379/data.csv\", delimiter=\",\")\n",
        "\n",
        "# split into input (X) and output (Y) variables\n",
        "X = dataset.iloc[:,0:8]\n",
        "Y = dataset.iloc[:,8]\n",
        "\n",
        "# estimate accuracy on whole dataset using loaded model\n",
        "scores = model.evaluate(X, Y, verbose=0)\n",
        "print(\"%s: %.2f%%\" % (model.metrics_names[1], scores[1]*100))"
      ],
      "metadata": {
        "colab": {
          "base_uri": "https://localhost:8080/"
        },
        "id": "JmOo2-jXX3Gc",
        "outputId": "2a864836-0a22-40d8-e4e2-193f2e62e213"
      },
      "execution_count": null,
      "outputs": [
        {
          "output_type": "stream",
          "name": "stdout",
          "text": [
            "Loaded model from disk\n",
            "accuracy: 90.61%\n"
          ]
        }
      ]
    },
    {
      "cell_type": "code",
      "source": [
        "# Import necessary libraries\n",
        "from keras.models import Sequential\n",
        "from keras.layers import Dense\n",
        "import matplotlib.pyplot as plt\n",
        "import numpy as np\n",
        "import pandas as pd\n",
        "\n",
        "# Load Pima Indians Diabetes dataset\n",
        "dataset = pd.read_csv(\"https://archive.ics.uci.edu/static/public/379/data.csv\", delimiter=\",\")\n",
        "\n",
        "# Split into input (X) and output (Y) variables\n",
        "X = dataset.iloc[:,0:8]\n",
        "Y = dataset.iloc[:,8]\n",
        "\n",
        "# Create model\n",
        "model = Sequential()\n",
        "model.add(Dense(128, input_dim=8, activation='relu'))\n",
        "model.add(Dense(64, activation='relu'))\n",
        "model.add(Dense(32, activation='relu'))\n",
        "model.add(Dense(1, activation='sigmoid'))\n",
        "\n",
        "# Compile model\n",
        "model.compile(loss='binary_crossentropy', optimizer='adam', metrics=['accuracy'])\n",
        "\n",
        "# Fit the model\n",
        "history = model.fit(X, Y, validation_split=0.44, epochs=100, batch_size=512, verbose=0)\n",
        "\n",
        "# List all data in history\n",
        "print(history.history.keys())\n",
        "\n",
        "# Summarize history for accuracy\n",
        "plt.plot(history.history['accuracy'])\n",
        "plt.plot(history.history['val_accuracy'])\n",
        "plt.title('Model Accuracy')\n",
        "plt.ylabel('Accuracy')\n",
        "plt.xlabel('Epoch')\n",
        "plt.legend(['Train', 'Test'], loc='upper left')\n",
        "plt.show()\n",
        "\n",
        "# Summarize history for loss\n",
        "plt.plot(history.history['loss'])\n",
        "plt.plot(history.history['val_loss'])\n",
        "plt.title('Model Loss')\n",
        "plt.ylabel('Loss')\n",
        "plt.xlabel('Epoch')\n",
        "plt.legend(['Train', 'Test'], loc='upper left')\n",
        "plt.show()"
      ],
      "metadata": {
        "colab": {
          "base_uri": "https://localhost:8080/",
          "height": 944
        },
        "id": "9rdHwkVOeP9f",
        "outputId": "d5392e80-9eb0-4f7d-9f81-292921404db5"
      },
      "execution_count": null,
      "outputs": [
        {
          "output_type": "stream",
          "name": "stdout",
          "text": [
            "dict_keys(['loss', 'accuracy', 'val_loss', 'val_accuracy'])\n"
          ]
        },
        {
          "output_type": "display_data",
          "data": {
            "text/plain": [
              "<Figure size 640x480 with 1 Axes>"
            ],
            "image/png": "[encoded data removed]"
          },
          "metadata": {}
        },
        {
          "output_type": "display_data",
          "data": {
            "text/plain": [
              "<Figure size 640x480 with 1 Axes>"
            ],
            "image/png": "[encoded data removed]"
          },
          "metadata": {}
        }
      ]
    },
    {
      "cell_type": "markdown",
      "source": [
        "Show the application of Dropout Regularization:"
      ],
      "metadata": {
        "id": "cM52Bd30eaZf"
      }
    },
    {
      "cell_type": "code",
      "source": [
        "!pip install scikeras"
      ],
      "metadata": {
        "colab": {
          "base_uri": "https://localhost:8080/"
        },
        "id": "wo7PiH7JeXco",
        "outputId": "d1085bed-aa33-4540-86d9-d772c1595070"
      },
      "execution_count": null,
      "outputs": [
        {
          "output_type": "stream",
          "name": "stdout",
          "text": [
            "Requirement already satisfied: scikeras in /usr/local/lib/python3.10/dist-packages (0.13.0)\n",
            "Requirement already satisfied: keras>=3.2.0 in /usr/local/lib/python3.10/dist-packages (from scikeras) (3.4.1)\n",
            "Requirement already satisfied: scikit-learn>=1.4.2 in /usr/local/lib/python3.10/dist-packages (from scikeras) (1.5.1)\n",
            "Requirement already satisfied: absl-py in /usr/local/lib/python3.10/dist-packages (from keras>=3.2.0->scikeras) (1.4.0)\n",
            "Requirement already satisfied: numpy in /usr/local/lib/python3.10/dist-packages (from keras>=3.2.0->scikeras) (1.25.2)\n",
            "Requirement already satisfied: rich in /usr/local/lib/python3.10/dist-packages (from keras>=3.2.0->scikeras) (13.7.1)\n",
            "Requirement already satisfied: namex in /usr/local/lib/python3.10/dist-packages (from keras>=3.2.0->scikeras) (0.0.8)\n",
            "Requirement already satisfied: h5py in /usr/local/lib/python3.10/dist-packages (from keras>=3.2.0->scikeras) (3.9.0)\n",
            "Requirement already satisfied: optree in /usr/local/lib/python3.10/dist-packages (from keras>=3.2.0->scikeras) (0.12.1)\n",
            "Requirement already satisfied: ml-dtypes in /usr/local/lib/python3.10/dist-packages (from keras>=3.2.0->scikeras) (0.2.0)\n",
            "Requirement already satisfied: packaging in /usr/local/lib/python3.10/dist-packages (from keras>=3.2.0->scikeras) (24.1)\n",
            "Requirement already satisfied: scipy>=1.6.0 in /usr/local/lib/python3.10/dist-packages (from scikit-learn>=1.4.2->scikeras) (1.11.4)\n",
            "Requirement already satisfied: joblib>=1.2.0 in /usr/local/lib/python3.10/dist-packages (from scikit-learn>=1.4.2->scikeras) (1.4.2)\n",
            "Requirement already satisfied: threadpoolctl>=3.1.0 in /usr/local/lib/python3.10/dist-packages (from scikit-learn>=1.4.2->scikeras) (3.5.0)\n",
            "Requirement already satisfied: typing-extensions>=4.5.0 in /usr/local/lib/python3.10/dist-packages (from optree->keras>=3.2.0->scikeras) (4.12.2)\n",
            "Requirement already satisfied: markdown-it-py>=2.2.0 in /usr/local/lib/python3.10/dist-packages (from rich->keras>=3.2.0->scikeras) (3.0.0)\n",
            "Requirement already satisfied: pygments<3.0.0,>=2.13.0 in /usr/local/lib/python3.10/dist-packages (from rich->keras>=3.2.0->scikeras) (2.16.1)\n",
            "Requirement already satisfied: mdurl~=0.1 in /usr/local/lib/python3.10/dist-packages (from markdown-it-py>=2.2.0->rich->keras>=3.2.0->scikeras) (0.1.2)\n"
          ]
        }
      ]
    },
    {
      "cell_type": "code",
      "source": [
        "from pandas import read_csv\n",
        "from tensorflow.keras.models import Sequential\n",
        "from tensorflow.keras.layers import Dense\n",
        "from tensorflow.keras.optimizers import SGD\n",
        "from sklearn.model_selection import cross_val_score\n",
        "from sklearn.preprocessing import LabelEncoder\n",
        "from sklearn.model_selection import StratifiedKFold\n",
        "from sklearn.preprocessing import StandardScaler\n",
        "from sklearn.pipeline import Pipeline\n",
        "\n",
        "# Load the dataset\n",
        "dataframe = read_csv(\"https://archive.ics.uci.edu/static/public/379/data.csv\")\n",
        "dataset = dataframe.values\n",
        "\n",
        "# Split the dataset into input (X) and output (Y) variables\n",
        "X = dataset[:,0:8].astype(float)\n",
        "Y = dataset[:,8]\n",
        "\n",
        "# Encode class values as integers\n",
        "encoder = LabelEncoder()\n",
        "encoder.fit(Y)\n",
        "encoded_Y = encoder.transform(Y)\n",
        "\n",
        "# Define the baseline model\n",
        "def create_baseline():\n",
        "    # Create model\n",
        "    model = Sequential()\n",
        "    model.add(Dense(128, input_dim=8, activation='relu'))\n",
        "    model.add(Dense(64, activation='relu'))\n",
        "    model.add(Dense(32, activation='relu'))\n",
        "    model.add(Dense(1, activation='sigmoid'))\n",
        "\n",
        "    # Compile model\n",
        "    sgd = SGD(learning_rate=0.01, momentum=0.8)\n",
        "    model.compile(loss='binary_crossentropy', optimizer=sgd, metrics=['accuracy'])\n",
        "    return model\n",
        "\n",
        "# Create a pipeline for standardization and model training\n",
        "estimators = []\n",
        "estimators.append(('standardize', StandardScaler()))\n",
        "estimators.append(('mlp', KerasClassifier(build_fn=create_baseline, epochs=50, batch_size=64, verbose=0)))\n",
        "pipeline = Pipeline(estimators)\n",
        "\n",
        "# Evaluate the model using cross-validation\n",
        "results = cross_val_score(pipeline, X, encoded_Y, cv=StratifiedKFold(n_splits=5, shuffle=True, random_state=42))\n",
        "\n",
        "# Print the mean and standard deviation of the accuracy scores\n",
        "print(\"Baseline: %.2f%% (%.2f%%)\" % (results.mean() * 100, results.std() * 100))"
      ],
      "metadata": {
        "colab": {
          "base_uri": "https://localhost:8080/"
        },
        "id": "VDHEAnDJe7er",
        "outputId": "203b0fd6-c06b-4b0f-edaa-dc5687d23f93"
      },
      "execution_count": null,
      "outputs": [
        {
          "output_type": "stream",
          "name": "stderr",
          "text": [
            "/usr/local/lib/python3.10/dist-packages/scikeras/wrappers.py:925: UserWarning: ``build_fn`` will be renamed to ``model`` in a future release, at which point use of ``build_fn`` will raise an Error instead.\n",
            "  X, y = self._initialize(X, y)\n",
            "/usr/local/lib/python3.10/dist-packages/keras/src/layers/core/dense.py:87: UserWarning: Do not pass an `input_shape`/`input_dim` argument to a layer. When using Sequential models, prefer using an `Input(shape)` object as the first layer in the model instead.\n",
            "  super().__init__(activity_regularizer=activity_regularizer, **kwargs)\n",
            "/usr/local/lib/python3.10/dist-packages/scikeras/wrappers.py:925: UserWarning: ``build_fn`` will be renamed to ``model`` in a future release, at which point use of ``build_fn`` will raise an Error instead.\n",
            "  X, y = self._initialize(X, y)\n",
            "/usr/local/lib/python3.10/dist-packages/keras/src/layers/core/dense.py:87: UserWarning: Do not pass an `input_shape`/`input_dim` argument to a layer. When using Sequential models, prefer using an `Input(shape)` object as the first layer in the model instead.\n",
            "  super().__init__(activity_regularizer=activity_regularizer, **kwargs)\n",
            "/usr/local/lib/python3.10/dist-packages/scikeras/wrappers.py:925: UserWarning: ``build_fn`` will be renamed to ``model`` in a future release, at which point use of ``build_fn`` will raise an Error instead.\n",
            "  X, y = self._initialize(X, y)\n",
            "/usr/local/lib/python3.10/dist-packages/keras/src/layers/core/dense.py:87: UserWarning: Do not pass an `input_shape`/`input_dim` argument to a layer. When using Sequential models, prefer using an `Input(shape)` object as the first layer in the model instead.\n",
            "  super().__init__(activity_regularizer=activity_regularizer, **kwargs)\n",
            "/usr/local/lib/python3.10/dist-packages/scikeras/wrappers.py:925: UserWarning: ``build_fn`` will be renamed to ``model`` in a future release, at which point use of ``build_fn`` will raise an Error instead.\n",
            "  X, y = self._initialize(X, y)\n",
            "/usr/local/lib/python3.10/dist-packages/keras/src/layers/core/dense.py:87: UserWarning: Do not pass an `input_shape`/`input_dim` argument to a layer. When using Sequential models, prefer using an `Input(shape)` object as the first layer in the model instead.\n",
            "  super().__init__(activity_regularizer=activity_regularizer, **kwargs)\n",
            "/usr/local/lib/python3.10/dist-packages/scikeras/wrappers.py:925: UserWarning: ``build_fn`` will be renamed to ``model`` in a future release, at which point use of ``build_fn`` will raise an Error instead.\n",
            "  X, y = self._initialize(X, y)\n",
            "/usr/local/lib/python3.10/dist-packages/keras/src/layers/core/dense.py:87: UserWarning: Do not pass an `input_shape`/`input_dim` argument to a layer. When using Sequential models, prefer using an `Input(shape)` object as the first layer in the model instead.\n",
            "  super().__init__(activity_regularizer=activity_regularizer, **kwargs)\n"
          ]
        },
        {
          "output_type": "stream",
          "name": "stdout",
          "text": [
            "Baseline: 88.17% (0.56%)\n"
          ]
        }
      ]
    },
    {
      "cell_type": "markdown",
      "source": [
        "Show the application of Dropout on the visible layer:"
      ],
      "metadata": {
        "id": "saifCSZ8o7x2"
      }
    },
    {
      "cell_type": "code",
      "source": [
        "from pandas import read_csv\n",
        "from tensorflow.keras.models import Sequential\n",
        "from tensorflow.keras.layers import Dense, Dropout\n",
        "from tensorflow.keras.optimizers import SGD\n",
        "from scikeras.wrappers import KerasClassifier\n",
        "from sklearn.model_selection import cross_val_score\n",
        "from sklearn.preprocessing import LabelEncoder, StandardScaler\n",
        "from sklearn.model_selection import StratifiedKFold\n",
        "from sklearn.pipeline import Pipeline\n",
        "\n",
        "# load dataset\n",
        "dataframe = read_csv(\"https://archive.ics.uci.edu/static/public/379/data.csv\")\n",
        "dataset = dataframe.values\n",
        "\n",
        "# split into input (X) and output (Y) variables\n",
        "X = dataset[:, 0:8].astype(float)\n",
        "Y = dataset[:, 8]\n",
        "\n",
        "# encode class values as integers\n",
        "encoder = LabelEncoder()\n",
        "encoder.fit(Y)\n",
        "encoded_Y = encoder.transform(Y)\n",
        "\n",
        "# dropout in the input layer with weight constraint\n",
        "def create_model():\n",
        "    # create model\n",
        "    model = Sequential()\n",
        "    model.add(Dropout(0.2, input_shape=(8,)))\n",
        "    model.add(Dense(128, activation='relu'))\n",
        "    model.add(Dense(64, activation='relu'))\n",
        "    model.add(Dense(32, activation='relu'))\n",
        "    model.add(Dense(1, activation='sigmoid'))\n",
        "\n",
        "    # Compile model\n",
        "    sgd = SGD(learning_rate=0.1, momentum=0.9)\n",
        "    model.compile(loss='binary_crossentropy', optimizer=sgd, metrics=['accuracy'])\n",
        "    return model\n",
        "\n",
        "estimators = []\n",
        "estimators.append(('standardize', StandardScaler()))\n",
        "estimators.append(('mlp', KerasClassifier(build_fn=create_model, epochs=50, batch_size=64, verbose=0)))\n",
        "pipeline = Pipeline(estimators)\n",
        "results = cross_val_score(pipeline, X, encoded_Y)\n",
        "print(\"Visible: %.2f%% (%.2f%%)\" % (results.mean() * 100, results.std() * 100))"
      ],
      "metadata": {
        "colab": {
          "base_uri": "https://localhost:8080/"
        },
        "id": "gYjOqcjSfVD7",
        "outputId": "9c6217a4-f630-4da8-eec6-014720810ab5"
      },
      "execution_count": null,
      "outputs": [
        {
          "output_type": "stream",
          "name": "stderr",
          "text": [
            "/usr/local/lib/python3.10/dist-packages/scikeras/wrappers.py:925: UserWarning: ``build_fn`` will be renamed to ``model`` in a future release, at which point use of ``build_fn`` will raise an Error instead.\n",
            "  X, y = self._initialize(X, y)\n",
            "/usr/local/lib/python3.10/dist-packages/keras/src/layers/regularization/dropout.py:42: UserWarning: Do not pass an `input_shape`/`input_dim` argument to a layer. When using Sequential models, prefer using an `Input(shape)` object as the first layer in the model instead.\n",
            "  super().__init__(**kwargs)\n",
            "/usr/local/lib/python3.10/dist-packages/scikeras/wrappers.py:925: UserWarning: ``build_fn`` will be renamed to ``model`` in a future release, at which point use of ``build_fn`` will raise an Error instead.\n",
            "  X, y = self._initialize(X, y)\n",
            "/usr/local/lib/python3.10/dist-packages/keras/src/layers/regularization/dropout.py:42: UserWarning: Do not pass an `input_shape`/`input_dim` argument to a layer. When using Sequential models, prefer using an `Input(shape)` object as the first layer in the model instead.\n",
            "  super().__init__(**kwargs)\n",
            "/usr/local/lib/python3.10/dist-packages/scikeras/wrappers.py:925: UserWarning: ``build_fn`` will be renamed to ``model`` in a future release, at which point use of ``build_fn`` will raise an Error instead.\n",
            "  X, y = self._initialize(X, y)\n",
            "/usr/local/lib/python3.10/dist-packages/keras/src/layers/regularization/dropout.py:42: UserWarning: Do not pass an `input_shape`/`input_dim` argument to a layer. When using Sequential models, prefer using an `Input(shape)` object as the first layer in the model instead.\n",
            "  super().__init__(**kwargs)\n",
            "/usr/local/lib/python3.10/dist-packages/scikeras/wrappers.py:925: UserWarning: ``build_fn`` will be renamed to ``model`` in a future release, at which point use of ``build_fn`` will raise an Error instead.\n",
            "  X, y = self._initialize(X, y)\n",
            "/usr/local/lib/python3.10/dist-packages/keras/src/layers/regularization/dropout.py:42: UserWarning: Do not pass an `input_shape`/`input_dim` argument to a layer. When using Sequential models, prefer using an `Input(shape)` object as the first layer in the model instead.\n",
            "  super().__init__(**kwargs)\n",
            "/usr/local/lib/python3.10/dist-packages/scikeras/wrappers.py:925: UserWarning: ``build_fn`` will be renamed to ``model`` in a future release, at which point use of ``build_fn`` will raise an Error instead.\n",
            "  X, y = self._initialize(X, y)\n",
            "/usr/local/lib/python3.10/dist-packages/keras/src/layers/regularization/dropout.py:42: UserWarning: Do not pass an `input_shape`/`input_dim` argument to a layer. When using Sequential models, prefer using an `Input(shape)` object as the first layer in the model instead.\n",
            "  super().__init__(**kwargs)\n"
          ]
        },
        {
          "output_type": "stream",
          "name": "stdout",
          "text": [
            "Visible: 88.54% (0.34%)\n"
          ]
        }
      ]
    },
    {
      "cell_type": "markdown",
      "source": [
        "Show the application of Dropout on the hidden layer:"
      ],
      "metadata": {
        "id": "StcW_hwkpWCG"
      }
    },
    {
      "cell_type": "code",
      "source": [
        "from pandas import read_csv\n",
        "from tensorflow.keras.models import Sequential\n",
        "from tensorflow.keras.layers import Dense, Dropout\n",
        "from tensorflow.keras.constraints import MaxNorm\n",
        "from tensorflow.keras.optimizers import SGD\n",
        "from scikeras.wrappers import KerasClassifier\n",
        "from sklearn.model_selection import cross_val_score\n",
        "from sklearn.preprocessing import LabelEncoder, StandardScaler\n",
        "from sklearn.model_selection import StratifiedKFold\n",
        "from sklearn.pipeline import Pipeline\n",
        "\n",
        "# Load dataset\n",
        "dataframe = read_csv(\"https://archive.ics.uci.edu/static/public/379/data.csv\")\n",
        "dataset = dataframe.values\n",
        "\n",
        "# Split into input (X) and output (Y) variables\n",
        "X = dataset[:, 0:8].astype(float)\n",
        "Y = dataset[:, 8]\n",
        "\n",
        "# Encode class values as integers\n",
        "encoder = LabelEncoder()\n",
        "encoder.fit(Y)\n",
        "encoded_Y = encoder.transform(Y)\n",
        "\n",
        "# Dropout in hidden layers with weight constraint\n",
        "def create_model():\n",
        "    # Create model\n",
        "    model = Sequential()\n",
        "    model.add(Dense(128, input_shape=(8,), activation='relu', kernel_constraint=MaxNorm(3)))\n",
        "    model.add(Dropout(0.2))\n",
        "    model.add(Dense(64, activation='relu', kernel_constraint=MaxNorm(3)))\n",
        "    model.add(Dropout(0.2))\n",
        "    model.add(Dense(32, activation='relu', kernel_constraint=MaxNorm(3)))\n",
        "    model.add(Dropout(0.2))\n",
        "    model.add(Dense(1, activation='sigmoid'))\n",
        "\n",
        "    # Compile model\n",
        "    sgd = SGD(learning_rate=0.1, momentum=0.9)\n",
        "    model.compile(loss='binary_crossentropy', optimizer=sgd, metrics=['accuracy'])\n",
        "    return model\n",
        "\n",
        "# Define pipeline\n",
        "estimators = []\n",
        "estimators.append(('standardize', StandardScaler()))\n",
        "estimators.append(('mlp', KerasClassifier(build_fn=create_model, epochs=50, batch_size=64, verbose=0)))\n",
        "pipeline = Pipeline(estimators)\n",
        "\n",
        "# Evaluate using k-fold cross validation\n",
        "results = cross_val_score(pipeline, X, encoded_Y)\n",
        "print(\"Hidden: %.2f%% (%.2f%%)\" % (results.mean() * 100, results.std() * 100))"
      ],
      "metadata": {
        "colab": {
          "base_uri": "https://localhost:8080/"
        },
        "id": "38SK4tWnpWPY",
        "outputId": "54f8bf41-980f-452e-b406-af026f4a33ef"
      },
      "execution_count": null,
      "outputs": [
        {
          "output_type": "stream",
          "name": "stderr",
          "text": [
            "/usr/local/lib/python3.10/dist-packages/scikeras/wrappers.py:925: UserWarning: ``build_fn`` will be renamed to ``model`` in a future release, at which point use of ``build_fn`` will raise an Error instead.\n",
            "  X, y = self._initialize(X, y)\n",
            "/usr/local/lib/python3.10/dist-packages/keras/src/layers/core/dense.py:87: UserWarning: Do not pass an `input_shape`/`input_dim` argument to a layer. When using Sequential models, prefer using an `Input(shape)` object as the first layer in the model instead.\n",
            "  super().__init__(activity_regularizer=activity_regularizer, **kwargs)\n",
            "/usr/local/lib/python3.10/dist-packages/scikeras/wrappers.py:925: UserWarning: ``build_fn`` will be renamed to ``model`` in a future release, at which point use of ``build_fn`` will raise an Error instead.\n",
            "  X, y = self._initialize(X, y)\n",
            "/usr/local/lib/python3.10/dist-packages/keras/src/layers/core/dense.py:87: UserWarning: Do not pass an `input_shape`/`input_dim` argument to a layer. When using Sequential models, prefer using an `Input(shape)` object as the first layer in the model instead.\n",
            "  super().__init__(activity_regularizer=activity_regularizer, **kwargs)\n",
            "/usr/local/lib/python3.10/dist-packages/scikeras/wrappers.py:925: UserWarning: ``build_fn`` will be renamed to ``model`` in a future release, at which point use of ``build_fn`` will raise an Error instead.\n",
            "  X, y = self._initialize(X, y)\n",
            "/usr/local/lib/python3.10/dist-packages/keras/src/layers/core/dense.py:87: UserWarning: Do not pass an `input_shape`/`input_dim` argument to a layer. When using Sequential models, prefer using an `Input(shape)` object as the first layer in the model instead.\n",
            "  super().__init__(activity_regularizer=activity_regularizer, **kwargs)\n",
            "/usr/local/lib/python3.10/dist-packages/scikeras/wrappers.py:925: UserWarning: ``build_fn`` will be renamed to ``model`` in a future release, at which point use of ``build_fn`` will raise an Error instead.\n",
            "  X, y = self._initialize(X, y)\n",
            "/usr/local/lib/python3.10/dist-packages/keras/src/layers/core/dense.py:87: UserWarning: Do not pass an `input_shape`/`input_dim` argument to a layer. When using Sequential models, prefer using an `Input(shape)` object as the first layer in the model instead.\n",
            "  super().__init__(activity_regularizer=activity_regularizer, **kwargs)\n",
            "/usr/local/lib/python3.10/dist-packages/scikeras/wrappers.py:925: UserWarning: ``build_fn`` will be renamed to ``model`` in a future release, at which point use of ``build_fn`` will raise an Error instead.\n",
            "  X, y = self._initialize(X, y)\n",
            "/usr/local/lib/python3.10/dist-packages/keras/src/layers/core/dense.py:87: UserWarning: Do not pass an `input_shape`/`input_dim` argument to a layer. When using Sequential models, prefer using an `Input(shape)` object as the first layer in the model instead.\n",
            "  super().__init__(activity_regularizer=activity_regularizer, **kwargs)\n"
          ]
        },
        {
          "output_type": "stream",
          "name": "stdout",
          "text": [
            "Hidden: 88.17% (0.61%)\n"
          ]
        }
      ]
    },
    {
      "cell_type": "markdown",
      "source": [
        "Show the application of a time-based learning rate schedule:"
      ],
      "metadata": {
        "id": "aYHb93Jrsbh6"
      }
    },
    {
      "cell_type": "code",
      "source": [
        "from pandas import read_csv\n",
        "from tensorflow.keras.models import Sequential\n",
        "from tensorflow.keras.layers import Dense\n",
        "from tensorflow.keras.optimizers import SGD\n",
        "from tensorflow.keras.callbacks import LearningRateScheduler\n",
        "from sklearn.preprocessing import LabelEncoder\n",
        "import math\n",
        "\n",
        "# Load dataset\n",
        "dataframe = read_csv(\"https://raw.githubusercontent.com/jbrownlee/Datasets/master/pima-indians-diabetes.csv\")\n",
        "dataset = dataframe.values\n",
        "\n",
        "# Split into input (X) and output (Y) variables\n",
        "X = dataset[:,0:8].astype(float)\n",
        "Y = dataset[:,8]\n",
        "\n",
        "# Encode class values as integers\n",
        "encoder = LabelEncoder()\n",
        "Y = encoder.fit_transform(Y)\n",
        "\n",
        "# Time-based learning rate schedule\n",
        "def time_based_decay(epoch):\n",
        "    initial_lrate = 0.1\n",
        "    k = 0.1\n",
        "    lrate = initial_lrate * math.pow(1 - k, epoch)\n",
        "    return lrate\n",
        "\n",
        "# Create model\n",
        "model = Sequential()\n",
        "model.add(Dense(128, input_shape=(8,), activation='relu'))\n",
        "model.add(Dense(64, activation='relu'))\n",
        "model.add(Dense(32, activation='relu'))\n",
        "model.add(Dense(1, activation='sigmoid'))\n",
        "\n",
        "# Compile model with SGD optimizer\n",
        "sgd = SGD(learning_rate=0.1)\n",
        "model.compile(loss='binary_crossentropy', optimizer=sgd, metrics=['accuracy'])\n",
        "\n",
        "# Define learning rate scheduler\n",
        "lrs = LearningRateScheduler(time_based_decay)\n",
        "\n",
        "# Fit the model\n",
        "model.fit(X, Y, validation_split=0.33, epochs=50, batch_size=32, verbose=2, callbacks=[lrs])"
      ],
      "metadata": {
        "colab": {
          "base_uri": "https://localhost:8080/"
        },
        "id": "-DjbjAxEsbNE",
        "outputId": "4d2fe875-4860-43bd-ac06-020572e6e818"
      },
      "execution_count": null,
      "outputs": [
        {
          "output_type": "stream",
          "name": "stderr",
          "text": [
            "/usr/local/lib/python3.10/dist-packages/keras/src/layers/core/dense.py:87: UserWarning: Do not pass an `input_shape`/`input_dim` argument to a layer. When using Sequential models, prefer using an `Input(shape)` object as the first layer in the model instead.\n",
            "  super().__init__(activity_regularizer=activity_regularizer, **kwargs)\n"
          ]
        },
        {
          "output_type": "stream",
          "name": "stdout",
          "text": [
            "Epoch 1/50\n",
            "17/17 - 2s - 111ms/step - accuracy: 0.5536 - loss: nan - val_accuracy: 0.6732 - val_loss: nan - learning_rate: 0.1000\n",
            "Epoch 2/50\n",
            "17/17 - 1s - 39ms/step - accuracy: 0.6413 - loss: nan - val_accuracy: 0.6732 - val_loss: nan - learning_rate: 0.0900\n",
            "Epoch 3/50\n",
            "17/17 - 0s - 5ms/step - accuracy: 0.6413 - loss: nan - val_accuracy: 0.6732 - val_loss: nan - learning_rate: 0.0810\n",
            "Epoch 4/50\n",
            "17/17 - 0s - 9ms/step - accuracy: 0.6413 - loss: nan - val_accuracy: 0.6732 - val_loss: nan - learning_rate: 0.0729\n",
            "Epoch 5/50\n",
            "17/17 - 0s - 10ms/step - accuracy: 0.6413 - loss: nan - val_accuracy: 0.6732 - val_loss: nan - learning_rate: 0.0656\n",
            "Epoch 6/50\n",
            "17/17 - 0s - 10ms/step - accuracy: 0.6413 - loss: nan - val_accuracy: 0.6732 - val_loss: nan - learning_rate: 0.0590\n",
            "Epoch 7/50\n",
            "17/17 - 0s - 7ms/step - accuracy: 0.6413 - loss: nan - val_accuracy: 0.6732 - val_loss: nan - learning_rate: 0.0531\n",
            "Epoch 8/50\n",
            "17/17 - 0s - 9ms/step - accuracy: 0.6413 - loss: nan - val_accuracy: 0.6732 - val_loss: nan - learning_rate: 0.0478\n",
            "Epoch 9/50\n",
            "17/17 - 0s - 8ms/step - accuracy: 0.6413 - loss: nan - val_accuracy: 0.6732 - val_loss: nan - learning_rate: 0.0430\n",
            "Epoch 10/50\n",
            "17/17 - 0s - 8ms/step - accuracy: 0.6413 - loss: nan - val_accuracy: 0.6732 - val_loss: nan - learning_rate: 0.0387\n",
            "Epoch 11/50\n",
            "17/17 - 0s - 7ms/step - accuracy: 0.6413 - loss: nan - val_accuracy: 0.6732 - val_loss: nan - learning_rate: 0.0349\n",
            "Epoch 12/50\n",
            "17/17 - 0s - 8ms/step - accuracy: 0.6413 - loss: nan - val_accuracy: 0.6732 - val_loss: nan - learning_rate: 0.0314\n",
            "Epoch 13/50\n",
            "17/17 - 0s - 10ms/step - accuracy: 0.6413 - loss: nan - val_accuracy: 0.6732 - val_loss: nan - learning_rate: 0.0282\n",
            "Epoch 14/50\n",
            "17/17 - 0s - 17ms/step - accuracy: 0.6413 - loss: nan - val_accuracy: 0.6732 - val_loss: nan - learning_rate: 0.0254\n",
            "Epoch 15/50\n",
            "17/17 - 0s - 8ms/step - accuracy: 0.6413 - loss: nan - val_accuracy: 0.6732 - val_loss: nan - learning_rate: 0.0229\n",
            "Epoch 16/50\n",
            "17/17 - 0s - 9ms/step - accuracy: 0.6413 - loss: nan - val_accuracy: 0.6732 - val_loss: nan - learning_rate: 0.0206\n",
            "Epoch 17/50\n",
            "17/17 - 0s - 19ms/step - accuracy: 0.6413 - loss: nan - val_accuracy: 0.6732 - val_loss: nan - learning_rate: 0.0185\n",
            "Epoch 18/50\n",
            "17/17 - 0s - 17ms/step - accuracy: 0.6413 - loss: nan - val_accuracy: 0.6732 - val_loss: nan - learning_rate: 0.0167\n",
            "Epoch 19/50\n",
            "17/17 - 0s - 13ms/step - accuracy: 0.6413 - loss: nan - val_accuracy: 0.6732 - val_loss: nan - learning_rate: 0.0150\n",
            "Epoch 20/50\n",
            "17/17 - 0s - 5ms/step - accuracy: 0.6413 - loss: nan - val_accuracy: 0.6732 - val_loss: nan - learning_rate: 0.0135\n",
            "Epoch 21/50\n",
            "17/17 - 0s - 8ms/step - accuracy: 0.6413 - loss: nan - val_accuracy: 0.6732 - val_loss: nan - learning_rate: 0.0122\n",
            "Epoch 22/50\n",
            "17/17 - 0s - 8ms/step - accuracy: 0.6413 - loss: nan - val_accuracy: 0.6732 - val_loss: nan - learning_rate: 0.0109\n",
            "Epoch 23/50\n",
            "17/17 - 0s - 9ms/step - accuracy: 0.6413 - loss: nan - val_accuracy: 0.6732 - val_loss: nan - learning_rate: 0.0098\n",
            "Epoch 24/50\n",
            "17/17 - 0s - 8ms/step - accuracy: 0.6413 - loss: nan - val_accuracy: 0.6732 - val_loss: nan - learning_rate: 0.0089\n",
            "Epoch 25/50\n",
            "17/17 - 0s - 8ms/step - accuracy: 0.6413 - loss: nan - val_accuracy: 0.6732 - val_loss: nan - learning_rate: 0.0080\n",
            "Epoch 26/50\n",
            "17/17 - 0s - 6ms/step - accuracy: 0.6413 - loss: nan - val_accuracy: 0.6732 - val_loss: nan - learning_rate: 0.0072\n",
            "Epoch 27/50\n",
            "17/17 - 0s - 8ms/step - accuracy: 0.6413 - loss: nan - val_accuracy: 0.6732 - val_loss: nan - learning_rate: 0.0065\n",
            "Epoch 28/50\n",
            "17/17 - 0s - 8ms/step - accuracy: 0.6413 - loss: nan - val_accuracy: 0.6732 - val_loss: nan - learning_rate: 0.0058\n",
            "Epoch 29/50\n",
            "17/17 - 0s - 7ms/step - accuracy: 0.6413 - loss: nan - val_accuracy: 0.6732 - val_loss: nan - learning_rate: 0.0052\n",
            "Epoch 30/50\n",
            "17/17 - 0s - 9ms/step - accuracy: 0.6413 - loss: nan - val_accuracy: 0.6732 - val_loss: nan - learning_rate: 0.0047\n",
            "Epoch 31/50\n",
            "17/17 - 0s - 7ms/step - accuracy: 0.6413 - loss: nan - val_accuracy: 0.6732 - val_loss: nan - learning_rate: 0.0042\n",
            "Epoch 32/50\n",
            "17/17 - 0s - 9ms/step - accuracy: 0.6413 - loss: nan - val_accuracy: 0.6732 - val_loss: nan - learning_rate: 0.0038\n",
            "Epoch 33/50\n",
            "17/17 - 0s - 7ms/step - accuracy: 0.6413 - loss: nan - val_accuracy: 0.6732 - val_loss: nan - learning_rate: 0.0034\n",
            "Epoch 34/50\n",
            "17/17 - 0s - 8ms/step - accuracy: 0.6413 - loss: nan - val_accuracy: 0.6732 - val_loss: nan - learning_rate: 0.0031\n",
            "Epoch 35/50\n",
            "17/17 - 0s - 8ms/step - accuracy: 0.6413 - loss: nan - val_accuracy: 0.6732 - val_loss: nan - learning_rate: 0.0028\n",
            "Epoch 36/50\n",
            "17/17 - 0s - 8ms/step - accuracy: 0.6413 - loss: nan - val_accuracy: 0.6732 - val_loss: nan - learning_rate: 0.0025\n",
            "Epoch 37/50\n",
            "17/17 - 0s - 10ms/step - accuracy: 0.6413 - loss: nan - val_accuracy: 0.6732 - val_loss: nan - learning_rate: 0.0023\n",
            "Epoch 38/50\n",
            "17/17 - 0s - 5ms/step - accuracy: 0.6413 - loss: nan - val_accuracy: 0.6732 - val_loss: nan - learning_rate: 0.0020\n",
            "Epoch 39/50\n",
            "17/17 - 0s - 8ms/step - accuracy: 0.6413 - loss: nan - val_accuracy: 0.6732 - val_loss: nan - learning_rate: 0.0018\n",
            "Epoch 40/50\n",
            "17/17 - 0s - 5ms/step - accuracy: 0.6413 - loss: nan - val_accuracy: 0.6732 - val_loss: nan - learning_rate: 0.0016\n",
            "Epoch 41/50\n",
            "17/17 - 0s - 9ms/step - accuracy: 0.6413 - loss: nan - val_accuracy: 0.6732 - val_loss: nan - learning_rate: 0.0015\n",
            "Epoch 42/50\n",
            "17/17 - 0s - 5ms/step - accuracy: 0.6413 - loss: nan - val_accuracy: 0.6732 - val_loss: nan - learning_rate: 0.0013\n",
            "Epoch 43/50\n",
            "17/17 - 0s - 5ms/step - accuracy: 0.6413 - loss: nan - val_accuracy: 0.6732 - val_loss: nan - learning_rate: 0.0012\n",
            "Epoch 44/50\n",
            "17/17 - 0s - 8ms/step - accuracy: 0.6413 - loss: nan - val_accuracy: 0.6732 - val_loss: nan - learning_rate: 0.0011\n",
            "Epoch 45/50\n",
            "17/17 - 0s - 8ms/step - accuracy: 0.6413 - loss: nan - val_accuracy: 0.6732 - val_loss: nan - learning_rate: 9.6977e-04\n",
            "Epoch 46/50\n",
            "17/17 - 0s - 7ms/step - accuracy: 0.6413 - loss: nan - val_accuracy: 0.6732 - val_loss: nan - learning_rate: 8.7280e-04\n",
            "Epoch 47/50\n",
            "17/17 - 0s - 6ms/step - accuracy: 0.6413 - loss: nan - val_accuracy: 0.6732 - val_loss: nan - learning_rate: 7.8552e-04\n",
            "Epoch 48/50\n",
            "17/17 - 0s - 8ms/step - accuracy: 0.6413 - loss: nan - val_accuracy: 0.6732 - val_loss: nan - learning_rate: 7.0697e-04\n",
            "Epoch 49/50\n",
            "17/17 - 0s - 5ms/step - accuracy: 0.6413 - loss: nan - val_accuracy: 0.6732 - val_loss: nan - learning_rate: 6.3627e-04\n",
            "Epoch 50/50\n",
            "17/17 - 0s - 5ms/step - accuracy: 0.6413 - loss: nan - val_accuracy: 0.6732 - val_loss: nan - learning_rate: 5.7264e-04\n"
          ]
        },
        {
          "output_type": "execute_result",
          "data": {
            "text/plain": [
              "<keras.src.callbacks.history.History at 0x7e06f5c3f7f0>"
            ]
          },
          "metadata": {},
          "execution_count": 17
        }
      ]
    },
    {
      "cell_type": "markdown",
      "source": [
        "Show the application of a drop-based learning rate schedule:"
      ],
      "metadata": {
        "id": "4_OISFads-aq"
      }
    },
    {
      "cell_type": "code",
      "source": [
        "from pandas import read_csv\n",
        "from tensorflow.keras.models import Sequential\n",
        "from tensorflow.keras.layers import Dense\n",
        "from tensorflow.keras.optimizers import SGD\n",
        "from tensorflow.keras.callbacks import LearningRateScheduler\n",
        "from sklearn.preprocessing import LabelEncoder\n",
        "import math\n",
        "\n",
        "# Load dataset\n",
        "dataframe = read_csv(\"https://raw.githubusercontent.com/jbrownlee/Datasets/master/pima-indians-diabetes.csv\")\n",
        "dataset = dataframe.values\n",
        "\n",
        "# Split into input (X) and output (Y) variables\n",
        "X = dataset[:,0:8].astype(float)\n",
        "Y = dataset[:,8]\n",
        "\n",
        "# Encode class values as integers\n",
        "encoder = LabelEncoder()\n",
        "Y = encoder.fit_transform(Y)\n",
        "\n",
        "# Drop-based learning rate schedule\n",
        "def drop_based_decay(epoch):\n",
        "    initial_lrate = 0.1\n",
        "    drop = 0.5\n",
        "    epochs_drop = 10.0\n",
        "    lrate = initial_lrate * math.pow(drop, math.floor((1+epoch)/epochs_drop))\n",
        "    return lrate\n",
        "\n",
        "# Create model\n",
        "model = Sequential()\n",
        "model.add(Dense(128, input_shape=(8,), activation='relu'))\n",
        "model.add(Dense(64, activation='relu'))\n",
        "model.add(Dense(32, activation='relu'))\n",
        "model.add(Dense(1, activation='sigmoid'))\n",
        "\n",
        "# Compile model with SGD optimizer\n",
        "sgd = SGD(learning_rate=0.1)\n",
        "model.compile(loss='binary_crossentropy', optimizer=sgd, metrics=['accuracy'])\n",
        "\n",
        "# Define learning rate scheduler\n",
        "lrs = LearningRateScheduler(drop_based_decay)\n",
        "\n",
        "# Fit the model\n",
        "model.fit(X, Y, validation_split=0.33, epochs=50, batch_size=32, verbose=2, callbacks=[lrs])"
      ],
      "metadata": {
        "colab": {
          "base_uri": "https://localhost:8080/"
        },
        "id": "iWCcZkuJs-p6",
        "outputId": "315f16da-b3a6-483d-fff9-d722c6d9c71a"
      },
      "execution_count": null,
      "outputs": [
        {
          "output_type": "stream",
          "name": "stderr",
          "text": [
            "/usr/local/lib/python3.10/dist-packages/keras/src/layers/core/dense.py:87: UserWarning: Do not pass an `input_shape`/`input_dim` argument to a layer. When using Sequential models, prefer using an `Input(shape)` object as the first layer in the model instead.\n",
            "  super().__init__(activity_regularizer=activity_regularizer, **kwargs)\n"
          ]
        },
        {
          "output_type": "stream",
          "name": "stdout",
          "text": [
            "Epoch 1/50\n",
            "17/17 - 2s - 112ms/step - accuracy: 0.5497 - loss: 1765.2778 - val_accuracy: 0.6693 - val_loss: 0.7160 - learning_rate: 0.1000\n",
            "Epoch 2/50\n",
            "17/17 - 1s - 43ms/step - accuracy: 0.6277 - loss: 27.9585 - val_accuracy: 0.6732 - val_loss: 0.6399 - learning_rate: 0.1000\n",
            "Epoch 3/50\n",
            "17/17 - 0s - 7ms/step - accuracy: 0.6413 - loss: 0.6544 - val_accuracy: 0.6732 - val_loss: 0.6345 - learning_rate: 0.1000\n",
            "Epoch 4/50\n",
            "17/17 - 0s - 9ms/step - accuracy: 0.6413 - loss: 0.6534 - val_accuracy: 0.6732 - val_loss: 0.6332 - learning_rate: 0.1000\n",
            "Epoch 5/50\n",
            "17/17 - 0s - 6ms/step - accuracy: 0.6413 - loss: 0.6532 - val_accuracy: 0.6732 - val_loss: 0.6389 - learning_rate: 0.1000\n",
            "Epoch 6/50\n",
            "17/17 - 0s - 8ms/step - accuracy: 0.6413 - loss: 0.6536 - val_accuracy: 0.6732 - val_loss: 0.6344 - learning_rate: 0.1000\n",
            "Epoch 7/50\n",
            "17/17 - 0s - 7ms/step - accuracy: 0.6413 - loss: 0.6530 - val_accuracy: 0.6732 - val_loss: 0.6328 - learning_rate: 0.1000\n",
            "Epoch 8/50\n",
            "17/17 - 0s - 7ms/step - accuracy: 0.6413 - loss: 0.6534 - val_accuracy: 0.6732 - val_loss: 0.6322 - learning_rate: 0.1000\n",
            "Epoch 9/50\n",
            "17/17 - 0s - 9ms/step - accuracy: 0.6413 - loss: 0.6533 - val_accuracy: 0.6732 - val_loss: 0.6368 - learning_rate: 0.1000\n",
            "Epoch 10/50\n",
            "17/17 - 0s - 5ms/step - accuracy: 0.6413 - loss: 0.6529 - val_accuracy: 0.6732 - val_loss: 0.6379 - learning_rate: 0.0500\n",
            "Epoch 11/50\n",
            "17/17 - 0s - 6ms/step - accuracy: 0.6413 - loss: 0.6532 - val_accuracy: 0.6732 - val_loss: 0.6393 - learning_rate: 0.0500\n",
            "Epoch 12/50\n",
            "17/17 - 0s - 7ms/step - accuracy: 0.6413 - loss: 0.6537 - val_accuracy: 0.6732 - val_loss: 0.6365 - learning_rate: 0.0500\n",
            "Epoch 13/50\n",
            "17/17 - 0s - 8ms/step - accuracy: 0.6413 - loss: 0.6528 - val_accuracy: 0.6732 - val_loss: 0.6347 - learning_rate: 0.0500\n",
            "Epoch 14/50\n",
            "17/17 - 0s - 8ms/step - accuracy: 0.6413 - loss: 0.6523 - val_accuracy: 0.6732 - val_loss: 0.6362 - learning_rate: 0.0500\n",
            "Epoch 15/50\n",
            "17/17 - 0s - 8ms/step - accuracy: 0.6413 - loss: 0.6525 - val_accuracy: 0.6732 - val_loss: 0.6376 - learning_rate: 0.0500\n",
            "Epoch 16/50\n",
            "17/17 - 0s - 9ms/step - accuracy: 0.6413 - loss: 0.6519 - val_accuracy: 0.6732 - val_loss: 0.6369 - learning_rate: 0.0500\n",
            "Epoch 17/50\n",
            "17/17 - 0s - 6ms/step - accuracy: 0.6413 - loss: 0.6516 - val_accuracy: 0.6732 - val_loss: 0.6378 - learning_rate: 0.0500\n",
            "Epoch 18/50\n",
            "17/17 - 0s - 8ms/step - accuracy: 0.6413 - loss: 0.6501 - val_accuracy: 0.6732 - val_loss: 0.6434 - learning_rate: 0.0500\n",
            "Epoch 19/50\n",
            "17/17 - 0s - 8ms/step - accuracy: 0.6491 - loss: 0.6479 - val_accuracy: 0.6732 - val_loss: 0.6441 - learning_rate: 0.0500\n",
            "Epoch 20/50\n",
            "17/17 - 0s - 7ms/step - accuracy: 0.6140 - loss: 0.6631 - val_accuracy: 0.6732 - val_loss: 0.6390 - learning_rate: 0.0250\n",
            "Epoch 21/50\n",
            "17/17 - 0s - 11ms/step - accuracy: 0.6413 - loss: 0.6541 - val_accuracy: 0.6732 - val_loss: 0.6380 - learning_rate: 0.0250\n",
            "Epoch 22/50\n",
            "17/17 - 0s - 17ms/step - accuracy: 0.6413 - loss: 0.6536 - val_accuracy: 0.6732 - val_loss: 0.6383 - learning_rate: 0.0250\n",
            "Epoch 23/50\n",
            "17/17 - 0s - 11ms/step - accuracy: 0.6413 - loss: 0.6538 - val_accuracy: 0.6732 - val_loss: 0.6386 - learning_rate: 0.0250\n",
            "Epoch 24/50\n",
            "17/17 - 0s - 12ms/step - accuracy: 0.6413 - loss: 0.6538 - val_accuracy: 0.6732 - val_loss: 0.6389 - learning_rate: 0.0250\n",
            "Epoch 25/50\n",
            "17/17 - 0s - 8ms/step - accuracy: 0.6413 - loss: 0.6540 - val_accuracy: 0.6732 - val_loss: 0.6393 - learning_rate: 0.0250\n",
            "Epoch 26/50\n",
            "17/17 - 0s - 18ms/step - accuracy: 0.6413 - loss: 0.6542 - val_accuracy: 0.6732 - val_loss: 0.6382 - learning_rate: 0.0250\n",
            "Epoch 27/50\n",
            "17/17 - 0s - 16ms/step - accuracy: 0.6413 - loss: 0.6537 - val_accuracy: 0.6732 - val_loss: 0.6373 - learning_rate: 0.0250\n",
            "Epoch 28/50\n",
            "17/17 - 0s - 8ms/step - accuracy: 0.6413 - loss: 0.6533 - val_accuracy: 0.6732 - val_loss: 0.6377 - learning_rate: 0.0250\n",
            "Epoch 29/50\n",
            "17/17 - 0s - 20ms/step - accuracy: 0.6413 - loss: 0.6535 - val_accuracy: 0.6732 - val_loss: 0.6368 - learning_rate: 0.0250\n",
            "Epoch 30/50\n",
            "17/17 - 0s - 9ms/step - accuracy: 0.6413 - loss: 0.6532 - val_accuracy: 0.6732 - val_loss: 0.6364 - learning_rate: 0.0125\n",
            "Epoch 31/50\n",
            "17/17 - 0s - 10ms/step - accuracy: 0.6413 - loss: 0.6531 - val_accuracy: 0.6732 - val_loss: 0.6361 - learning_rate: 0.0125\n",
            "Epoch 32/50\n",
            "17/17 - 0s - 13ms/step - accuracy: 0.6413 - loss: 0.6529 - val_accuracy: 0.6732 - val_loss: 0.6358 - learning_rate: 0.0125\n",
            "Epoch 33/50\n",
            "17/17 - 0s - 5ms/step - accuracy: 0.6413 - loss: 0.6528 - val_accuracy: 0.6732 - val_loss: 0.6355 - learning_rate: 0.0125\n",
            "Epoch 34/50\n",
            "17/17 - 0s - 8ms/step - accuracy: 0.6413 - loss: 0.6527 - val_accuracy: 0.6732 - val_loss: 0.6352 - learning_rate: 0.0125\n",
            "Epoch 35/50\n",
            "17/17 - 0s - 8ms/step - accuracy: 0.6413 - loss: 0.6527 - val_accuracy: 0.6732 - val_loss: 0.6355 - learning_rate: 0.0125\n",
            "Epoch 36/50\n",
            "17/17 - 0s - 8ms/step - accuracy: 0.6413 - loss: 0.6528 - val_accuracy: 0.6732 - val_loss: 0.6355 - learning_rate: 0.0125\n",
            "Epoch 37/50\n",
            "17/17 - 0s - 5ms/step - accuracy: 0.6413 - loss: 0.6535 - val_accuracy: 0.6732 - val_loss: 0.6345 - learning_rate: 0.0125\n",
            "Epoch 38/50\n",
            "17/17 - 0s - 5ms/step - accuracy: 0.6413 - loss: 0.6514 - val_accuracy: 0.6772 - val_loss: 0.6320 - learning_rate: 0.0125\n",
            "Epoch 39/50\n",
            "17/17 - 0s - 8ms/step - accuracy: 0.6589 - loss: 0.6404 - val_accuracy: 0.6732 - val_loss: 0.6351 - learning_rate: 0.0125\n",
            "Epoch 40/50\n",
            "17/17 - 0s - 5ms/step - accuracy: 0.6413 - loss: 0.6526 - val_accuracy: 0.6732 - val_loss: 0.6345 - learning_rate: 0.0063\n",
            "Epoch 41/50\n",
            "17/17 - 0s - 8ms/step - accuracy: 0.6413 - loss: 0.6523 - val_accuracy: 0.6732 - val_loss: 0.6353 - learning_rate: 0.0063\n",
            "Epoch 42/50\n",
            "17/17 - 0s - 9ms/step - accuracy: 0.6413 - loss: 0.6528 - val_accuracy: 0.6732 - val_loss: 0.6347 - learning_rate: 0.0063\n",
            "Epoch 43/50\n",
            "17/17 - 0s - 5ms/step - accuracy: 0.6413 - loss: 0.6524 - val_accuracy: 0.6732 - val_loss: 0.6342 - learning_rate: 0.0063\n",
            "Epoch 44/50\n",
            "17/17 - 0s - 10ms/step - accuracy: 0.6413 - loss: 0.6522 - val_accuracy: 0.6732 - val_loss: 0.6341 - learning_rate: 0.0063\n",
            "Epoch 45/50\n",
            "17/17 - 0s - 6ms/step - accuracy: 0.6413 - loss: 0.6521 - val_accuracy: 0.6732 - val_loss: 0.6338 - learning_rate: 0.0063\n",
            "Epoch 46/50\n",
            "17/17 - 0s - 13ms/step - accuracy: 0.6413 - loss: 0.6520 - val_accuracy: 0.6732 - val_loss: 0.6336 - learning_rate: 0.0063\n",
            "Epoch 47/50\n",
            "17/17 - 0s - 10ms/step - accuracy: 0.6413 - loss: 0.6519 - val_accuracy: 0.6732 - val_loss: 0.6335 - learning_rate: 0.0063\n",
            "Epoch 48/50\n",
            "17/17 - 0s - 19ms/step - accuracy: 0.6413 - loss: 0.6519 - val_accuracy: 0.6732 - val_loss: 0.6334 - learning_rate: 0.0063\n",
            "Epoch 49/50\n",
            "17/17 - 0s - 18ms/step - accuracy: 0.6413 - loss: 0.6519 - val_accuracy: 0.6732 - val_loss: 0.6332 - learning_rate: 0.0063\n",
            "Epoch 50/50\n",
            "17/17 - 0s - 15ms/step - accuracy: 0.6413 - loss: 0.6519 - val_accuracy: 0.6732 - val_loss: 0.6332 - learning_rate: 0.0031\n"
          ]
        },
        {
          "output_type": "execute_result",
          "data": {
            "text/plain": [
              "<keras.src.callbacks.history.History at 0x7e06f62cca90>"
            ]
          },
          "metadata": {},
          "execution_count": 18
        }
      ]
    },
    {
      "cell_type": "markdown",
      "source": [
        "In this activity its hard to fix the code but at the same time it was enjoying I learn a lot of in this activity like the basic principles of neural network modeling and training throughout this set of assignments. I was able to apply the model that checkpointing to track progress, Models get saved and loaded in many ways. You can check out training info to spot trends. I tweak learning rates and use dropout to stop overfitting. This helps the model learn better. These tricks show I know how to make models work well.\n",
        "\n"
      ],
      "metadata": {
        "id": "NnSI3umPthn6"
      }
    }
  ]
}